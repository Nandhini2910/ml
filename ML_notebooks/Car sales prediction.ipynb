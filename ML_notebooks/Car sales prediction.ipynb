{
 "cells": [
  {
   "cell_type": "code",
   "execution_count": 1,
   "metadata": {},
   "outputs": [],
   "source": [
    "import pandas as pd\n",
    "import numpy as np\n",
    "import matplotlib.pyplot as plt\n"
   ]
  },
  {
   "cell_type": "code",
   "execution_count": 2,
   "metadata": {},
   "outputs": [],
   "source": [
    "df=pd.read_csv(\"C:\\\\Users\\\\Welcome\\\\Desktop\\\\ML\\\\car_train.csv\")"
   ]
  },
  {
   "cell_type": "code",
   "execution_count": 3,
   "metadata": {},
   "outputs": [
    {
     "data": {
      "text/html": [
       "<div>\n",
       "<style scoped>\n",
       "    .dataframe tbody tr th:only-of-type {\n",
       "        vertical-align: middle;\n",
       "    }\n",
       "\n",
       "    .dataframe tbody tr th {\n",
       "        vertical-align: top;\n",
       "    }\n",
       "\n",
       "    .dataframe thead th {\n",
       "        text-align: right;\n",
       "    }\n",
       "</style>\n",
       "<table border=\"1\" class=\"dataframe\">\n",
       "  <thead>\n",
       "    <tr style=\"text-align: right;\">\n",
       "      <th></th>\n",
       "      <th>week_id</th>\n",
       "      <th>date</th>\n",
       "      <th>sessions</th>\n",
       "      <th>online_leads_actuals</th>\n",
       "      <th>test_drive_request</th>\n",
       "      <th>offer_request</th>\n",
       "      <th>total_configs_finished</th>\n",
       "      <th>keep_me_updated</th>\n",
       "      <th>dealer_locator</th>\n",
       "      <th>private_orders</th>\n",
       "    </tr>\n",
       "  </thead>\n",
       "  <tbody>\n",
       "    <tr>\n",
       "      <th>0</th>\n",
       "      <td>1</td>\n",
       "      <td>01/01/2017</td>\n",
       "      <td>15038</td>\n",
       "      <td>29</td>\n",
       "      <td>12</td>\n",
       "      <td>17</td>\n",
       "      <td>989</td>\n",
       "      <td>0</td>\n",
       "      <td>2457</td>\n",
       "      <td>0</td>\n",
       "    </tr>\n",
       "    <tr>\n",
       "      <th>1</th>\n",
       "      <td>1</td>\n",
       "      <td>02/01/2017</td>\n",
       "      <td>19200</td>\n",
       "      <td>34</td>\n",
       "      <td>20</td>\n",
       "      <td>14</td>\n",
       "      <td>1261</td>\n",
       "      <td>2</td>\n",
       "      <td>3457</td>\n",
       "      <td>0</td>\n",
       "    </tr>\n",
       "    <tr>\n",
       "      <th>2</th>\n",
       "      <td>1</td>\n",
       "      <td>03/01/2017</td>\n",
       "      <td>28097</td>\n",
       "      <td>68</td>\n",
       "      <td>56</td>\n",
       "      <td>12</td>\n",
       "      <td>1878</td>\n",
       "      <td>5</td>\n",
       "      <td>4859</td>\n",
       "      <td>27</td>\n",
       "    </tr>\n",
       "    <tr>\n",
       "      <th>3</th>\n",
       "      <td>1</td>\n",
       "      <td>04/01/2017</td>\n",
       "      <td>24711</td>\n",
       "      <td>69</td>\n",
       "      <td>39</td>\n",
       "      <td>30</td>\n",
       "      <td>1648</td>\n",
       "      <td>2</td>\n",
       "      <td>4825</td>\n",
       "      <td>16</td>\n",
       "    </tr>\n",
       "    <tr>\n",
       "      <th>4</th>\n",
       "      <td>1</td>\n",
       "      <td>05/01/2017</td>\n",
       "      <td>27025</td>\n",
       "      <td>90</td>\n",
       "      <td>53</td>\n",
       "      <td>37</td>\n",
       "      <td>1939</td>\n",
       "      <td>2</td>\n",
       "      <td>5219</td>\n",
       "      <td>6</td>\n",
       "    </tr>\n",
       "    <tr>\n",
       "      <th>...</th>\n",
       "      <td>...</td>\n",
       "      <td>...</td>\n",
       "      <td>...</td>\n",
       "      <td>...</td>\n",
       "      <td>...</td>\n",
       "      <td>...</td>\n",
       "      <td>...</td>\n",
       "      <td>...</td>\n",
       "      <td>...</td>\n",
       "      <td>...</td>\n",
       "    </tr>\n",
       "    <tr>\n",
       "      <th>548</th>\n",
       "      <td>79</td>\n",
       "      <td>03/07/2018</td>\n",
       "      <td>23658</td>\n",
       "      <td>63</td>\n",
       "      <td>43</td>\n",
       "      <td>20</td>\n",
       "      <td>2193</td>\n",
       "      <td>0</td>\n",
       "      <td>3012</td>\n",
       "      <td>30</td>\n",
       "    </tr>\n",
       "    <tr>\n",
       "      <th>549</th>\n",
       "      <td>79</td>\n",
       "      <td>04/07/2018</td>\n",
       "      <td>26271</td>\n",
       "      <td>43</td>\n",
       "      <td>28</td>\n",
       "      <td>15</td>\n",
       "      <td>2554</td>\n",
       "      <td>0</td>\n",
       "      <td>3169</td>\n",
       "      <td>24</td>\n",
       "    </tr>\n",
       "    <tr>\n",
       "      <th>550</th>\n",
       "      <td>79</td>\n",
       "      <td>05/07/2018</td>\n",
       "      <td>26513</td>\n",
       "      <td>49</td>\n",
       "      <td>28</td>\n",
       "      <td>21</td>\n",
       "      <td>2527</td>\n",
       "      <td>0</td>\n",
       "      <td>3223</td>\n",
       "      <td>36</td>\n",
       "    </tr>\n",
       "    <tr>\n",
       "      <th>551</th>\n",
       "      <td>79</td>\n",
       "      <td>06/07/2018</td>\n",
       "      <td>25256</td>\n",
       "      <td>57</td>\n",
       "      <td>34</td>\n",
       "      <td>23</td>\n",
       "      <td>2390</td>\n",
       "      <td>0</td>\n",
       "      <td>2959</td>\n",
       "      <td>34</td>\n",
       "    </tr>\n",
       "    <tr>\n",
       "      <th>552</th>\n",
       "      <td>79</td>\n",
       "      <td>07/07/2018</td>\n",
       "      <td>25293</td>\n",
       "      <td>76</td>\n",
       "      <td>56</td>\n",
       "      <td>20</td>\n",
       "      <td>2313</td>\n",
       "      <td>0</td>\n",
       "      <td>2483</td>\n",
       "      <td>6</td>\n",
       "    </tr>\n",
       "  </tbody>\n",
       "</table>\n",
       "<p>553 rows × 10 columns</p>\n",
       "</div>"
      ],
      "text/plain": [
       "     week_id        date  sessions  online_leads_actuals  test_drive_request  \\\n",
       "0          1  01/01/2017     15038                    29                  12   \n",
       "1          1  02/01/2017     19200                    34                  20   \n",
       "2          1  03/01/2017     28097                    68                  56   \n",
       "3          1  04/01/2017     24711                    69                  39   \n",
       "4          1  05/01/2017     27025                    90                  53   \n",
       "..       ...         ...       ...                   ...                 ...   \n",
       "548       79  03/07/2018     23658                    63                  43   \n",
       "549       79  04/07/2018     26271                    43                  28   \n",
       "550       79  05/07/2018     26513                    49                  28   \n",
       "551       79  06/07/2018     25256                    57                  34   \n",
       "552       79  07/07/2018     25293                    76                  56   \n",
       "\n",
       "     offer_request  total_configs_finished  keep_me_updated  dealer_locator  \\\n",
       "0               17                     989                0            2457   \n",
       "1               14                    1261                2            3457   \n",
       "2               12                    1878                5            4859   \n",
       "3               30                    1648                2            4825   \n",
       "4               37                    1939                2            5219   \n",
       "..             ...                     ...              ...             ...   \n",
       "548             20                    2193                0            3012   \n",
       "549             15                    2554                0            3169   \n",
       "550             21                    2527                0            3223   \n",
       "551             23                    2390                0            2959   \n",
       "552             20                    2313                0            2483   \n",
       "\n",
       "     private_orders  \n",
       "0                 0  \n",
       "1                 0  \n",
       "2                27  \n",
       "3                16  \n",
       "4                 6  \n",
       "..              ...  \n",
       "548              30  \n",
       "549              24  \n",
       "550              36  \n",
       "551              34  \n",
       "552               6  \n",
       "\n",
       "[553 rows x 10 columns]"
      ]
     },
     "execution_count": 3,
     "metadata": {},
     "output_type": "execute_result"
    }
   ],
   "source": [
    "df\n"
   ]
  },
  {
   "cell_type": "code",
   "execution_count": 4,
   "metadata": {},
   "outputs": [
    {
     "data": {
      "text/html": [
       "<div>\n",
       "<style scoped>\n",
       "    .dataframe tbody tr th:only-of-type {\n",
       "        vertical-align: middle;\n",
       "    }\n",
       "\n",
       "    .dataframe tbody tr th {\n",
       "        vertical-align: top;\n",
       "    }\n",
       "\n",
       "    .dataframe thead th {\n",
       "        text-align: right;\n",
       "    }\n",
       "</style>\n",
       "<table border=\"1\" class=\"dataframe\">\n",
       "  <thead>\n",
       "    <tr style=\"text-align: right;\">\n",
       "      <th></th>\n",
       "      <th>week_id</th>\n",
       "      <th>date</th>\n",
       "      <th>sessions</th>\n",
       "      <th>online_leads_actuals</th>\n",
       "      <th>test_drive_request</th>\n",
       "      <th>offer_request</th>\n",
       "      <th>total_configs_finished</th>\n",
       "      <th>keep_me_updated</th>\n",
       "      <th>dealer_locator</th>\n",
       "      <th>private_orders</th>\n",
       "    </tr>\n",
       "  </thead>\n",
       "  <tbody>\n",
       "    <tr>\n",
       "      <th>0</th>\n",
       "      <td>1</td>\n",
       "      <td>01/01/2017</td>\n",
       "      <td>15038</td>\n",
       "      <td>29</td>\n",
       "      <td>12</td>\n",
       "      <td>17</td>\n",
       "      <td>989</td>\n",
       "      <td>0</td>\n",
       "      <td>2457</td>\n",
       "      <td>0</td>\n",
       "    </tr>\n",
       "    <tr>\n",
       "      <th>1</th>\n",
       "      <td>1</td>\n",
       "      <td>02/01/2017</td>\n",
       "      <td>19200</td>\n",
       "      <td>34</td>\n",
       "      <td>20</td>\n",
       "      <td>14</td>\n",
       "      <td>1261</td>\n",
       "      <td>2</td>\n",
       "      <td>3457</td>\n",
       "      <td>0</td>\n",
       "    </tr>\n",
       "    <tr>\n",
       "      <th>2</th>\n",
       "      <td>1</td>\n",
       "      <td>03/01/2017</td>\n",
       "      <td>28097</td>\n",
       "      <td>68</td>\n",
       "      <td>56</td>\n",
       "      <td>12</td>\n",
       "      <td>1878</td>\n",
       "      <td>5</td>\n",
       "      <td>4859</td>\n",
       "      <td>27</td>\n",
       "    </tr>\n",
       "    <tr>\n",
       "      <th>3</th>\n",
       "      <td>1</td>\n",
       "      <td>04/01/2017</td>\n",
       "      <td>24711</td>\n",
       "      <td>69</td>\n",
       "      <td>39</td>\n",
       "      <td>30</td>\n",
       "      <td>1648</td>\n",
       "      <td>2</td>\n",
       "      <td>4825</td>\n",
       "      <td>16</td>\n",
       "    </tr>\n",
       "    <tr>\n",
       "      <th>4</th>\n",
       "      <td>1</td>\n",
       "      <td>05/01/2017</td>\n",
       "      <td>27025</td>\n",
       "      <td>90</td>\n",
       "      <td>53</td>\n",
       "      <td>37</td>\n",
       "      <td>1939</td>\n",
       "      <td>2</td>\n",
       "      <td>5219</td>\n",
       "      <td>6</td>\n",
       "    </tr>\n",
       "  </tbody>\n",
       "</table>\n",
       "</div>"
      ],
      "text/plain": [
       "   week_id        date  sessions  online_leads_actuals  test_drive_request  \\\n",
       "0        1  01/01/2017     15038                    29                  12   \n",
       "1        1  02/01/2017     19200                    34                  20   \n",
       "2        1  03/01/2017     28097                    68                  56   \n",
       "3        1  04/01/2017     24711                    69                  39   \n",
       "4        1  05/01/2017     27025                    90                  53   \n",
       "\n",
       "   offer_request  total_configs_finished  keep_me_updated  dealer_locator  \\\n",
       "0             17                     989                0            2457   \n",
       "1             14                    1261                2            3457   \n",
       "2             12                    1878                5            4859   \n",
       "3             30                    1648                2            4825   \n",
       "4             37                    1939                2            5219   \n",
       "\n",
       "   private_orders  \n",
       "0               0  \n",
       "1               0  \n",
       "2              27  \n",
       "3              16  \n",
       "4               6  "
      ]
     },
     "execution_count": 4,
     "metadata": {},
     "output_type": "execute_result"
    }
   ],
   "source": [
    "df.head()"
   ]
  },
  {
   "cell_type": "code",
   "execution_count": 86,
   "metadata": {},
   "outputs": [],
   "source": [
    "x=df.drop(['date','private_orders','week_id','total_configs_finished'],axis='columns')"
   ]
  },
  {
   "cell_type": "code",
   "execution_count": 87,
   "metadata": {},
   "outputs": [],
   "source": [
    "y=df.private_orders"
   ]
  },
  {
   "cell_type": "code",
   "execution_count": 88,
   "metadata": {},
   "outputs": [
    {
     "data": {
      "text/plain": [
       "<matplotlib.collections.PathCollection at 0x2477916f0d0>"
      ]
     },
     "execution_count": 88,
     "metadata": {},
     "output_type": "execute_result"
    },
    {
     "data": {
      "image/png": "[encoded data removed]",
      "text/plain": [
       "<Figure size 432x288 with 1 Axes>"
      ]
     },
     "metadata": {
      "needs_background": "light"
     },
     "output_type": "display_data"
    }
   ],
   "source": [
    "plt.scatter(df.test_drive_request,df.private_orders)"
   ]
  },
  {
   "cell_type": "code",
   "execution_count": 89,
   "metadata": {},
   "outputs": [],
   "source": [
    "from sklearn.model_selection import train_test_split\n",
    "x_train,x_test,y_train,y_test=train_test_split(x,y,test_size=0.2)"
   ]
  },
  {
   "cell_type": "code",
   "execution_count": 90,
   "metadata": {},
   "outputs": [
    {
     "data": {
      "text/plain": [
       "LinearRegression()"
      ]
     },
     "execution_count": 90,
     "metadata": {},
     "output_type": "execute_result"
    }
   ],
   "source": [
    "from sklearn.linear_model import LinearRegression\n",
    "reg=LinearRegression()\n",
    "reg.fit(x_train,y_train)"
   ]
  },
  {
   "cell_type": "code",
   "execution_count": 91,
   "metadata": {},
   "outputs": [
    {
     "data": {
      "text/plain": [
       "array([31.66641459, 25.67600653, 49.92629751, 35.63437725, 26.01353198,\n",
       "       33.37499838, 36.52663438, 22.19250306, 19.93342213, 45.83578969,\n",
       "       17.39387654, 39.74462294,  8.83159946, 40.67955719, 73.35935515,\n",
       "       27.46707943, 19.08751386, 23.65176871, 12.78907937, 26.15923232,\n",
       "       20.53826325, 28.40073082, 56.23411204, 19.06656526, 19.62824195,\n",
       "       34.84827572, 42.35292993, 11.34556143, 29.55374119, 30.96197706,\n",
       "       20.07882634, 34.7965932 , 30.31926611, 43.50532898, 47.80668429,\n",
       "       29.06286527, 20.13578058, 20.25894291, 29.29810291, 20.34679742,\n",
       "       43.61755126, 23.95057274, 49.99438273, 37.72356412, 51.39714066,\n",
       "       26.91949889, 59.25784185, 18.19045563, 19.79843273, 23.70270983,\n",
       "       48.14453241, 23.23450964, 25.98549779, 55.49175791, 30.31036457,\n",
       "       30.07915957, 27.18932411, 53.70614485, 19.19039984, 14.28799737,\n",
       "       54.40104827, 54.53950112, 62.88334093, 29.5441048 , 16.95817575,\n",
       "       17.04965743, 17.37781592, 45.89660805, 27.14527028, 43.65350556,\n",
       "       31.33106982, 23.68052255, 23.07758572, 25.73199375, 31.69348937,\n",
       "       24.85300293, 24.54222236, 20.14762411, 43.64944693, 22.42097135,\n",
       "       28.48669974, 17.77144447, 40.58718681, 21.62606886, 28.53299208,\n",
       "       47.32802066, 17.46913099, 61.97199229, 42.83178497, 19.27084189,\n",
       "       39.76116937, 30.41405903, 10.91325106, 17.98419285, 23.61524945,\n",
       "       22.73651709, 28.67415602, 33.54859204, 68.26365661, 36.7527593 ,\n",
       "       23.16139282, 24.74517897, 24.68027226, 34.73729729, 31.88950622,\n",
       "       41.80965739, 44.2432194 , 21.56510352, 71.20378557, 33.39654148,\n",
       "       24.78919405])"
      ]
     },
     "execution_count": 91,
     "metadata": {},
     "output_type": "execute_result"
    }
   ],
   "source": [
    "reg.predict(x_test)"
   ]
  },
  {
   "cell_type": "code",
   "execution_count": 92,
   "metadata": {},
   "outputs": [],
   "source": [
    "pred=reg.predict(x_test)"
   ]
  },
  {
   "cell_type": "code",
   "execution_count": 93,
   "metadata": {},
   "outputs": [],
   "source": [
    "df1=pd.DataFrame(pred,y_test)"
   ]
  },
  {
   "cell_type": "code",
   "execution_count": 94,
   "metadata": {},
   "outputs": [
    {
     "data": {
      "text/html": [
       "<div>\n",
       "<style scoped>\n",
       "    .dataframe tbody tr th:only-of-type {\n",
       "        vertical-align: middle;\n",
       "    }\n",
       "\n",
       "    .dataframe tbody tr th {\n",
       "        vertical-align: top;\n",
       "    }\n",
       "\n",
       "    .dataframe thead th {\n",
       "        text-align: right;\n",
       "    }\n",
       "</style>\n",
       "<table border=\"1\" class=\"dataframe\">\n",
       "  <thead>\n",
       "    <tr style=\"text-align: right;\">\n",
       "      <th></th>\n",
       "      <th>0</th>\n",
       "    </tr>\n",
       "    <tr>\n",
       "      <th>private_orders</th>\n",
       "      <th></th>\n",
       "    </tr>\n",
       "  </thead>\n",
       "  <tbody>\n",
       "    <tr>\n",
       "      <th>92</th>\n",
       "      <td>31.666415</td>\n",
       "    </tr>\n",
       "    <tr>\n",
       "      <th>32</th>\n",
       "      <td>25.676007</td>\n",
       "    </tr>\n",
       "    <tr>\n",
       "      <th>115</th>\n",
       "      <td>49.926298</td>\n",
       "    </tr>\n",
       "    <tr>\n",
       "      <th>98</th>\n",
       "      <td>35.634377</td>\n",
       "    </tr>\n",
       "    <tr>\n",
       "      <th>14</th>\n",
       "      <td>26.013532</td>\n",
       "    </tr>\n",
       "    <tr>\n",
       "      <th>13</th>\n",
       "      <td>33.374998</td>\n",
       "    </tr>\n",
       "    <tr>\n",
       "      <th>24</th>\n",
       "      <td>36.526634</td>\n",
       "    </tr>\n",
       "    <tr>\n",
       "      <th>14</th>\n",
       "      <td>22.192503</td>\n",
       "    </tr>\n",
       "    <tr>\n",
       "      <th>50</th>\n",
       "      <td>19.933422</td>\n",
       "    </tr>\n",
       "    <tr>\n",
       "      <th>69</th>\n",
       "      <td>45.835790</td>\n",
       "    </tr>\n",
       "  </tbody>\n",
       "</table>\n",
       "</div>"
      ],
      "text/plain": [
       "                        0\n",
       "private_orders           \n",
       "92              31.666415\n",
       "32              25.676007\n",
       "115             49.926298\n",
       "98              35.634377\n",
       "14              26.013532\n",
       "13              33.374998\n",
       "24              36.526634\n",
       "14              22.192503\n",
       "50              19.933422\n",
       "69              45.835790"
      ]
     },
     "execution_count": 94,
     "metadata": {},
     "output_type": "execute_result"
    }
   ],
   "source": [
    "df1.head(10)"
   ]
  },
  {
   "cell_type": "code",
   "execution_count": 95,
   "metadata": {},
   "outputs": [
    {
     "data": {
      "text/plain": [
       "0.07622818895863714"
      ]
     },
     "execution_count": 95,
     "metadata": {},
     "output_type": "execute_result"
    }
   ],
   "source": [
    "reg.score(x_test,y_test)\n"
   ]
  },
  {
   "cell_type": "code",
   "execution_count": 32,
   "metadata": {},
   "outputs": [
    {
     "data": {
      "text/plain": [
       "array([ 30.20694486,  27.08916902,  17.02967428,  15.36218014,\n",
       "        31.48552255,  26.63851194,  97.80550698,  21.16342385,\n",
       "        24.49416741,  29.01061846,  44.4812825 ,  31.04433938,\n",
       "        20.5577554 ,  39.30061987,  21.49854877,  48.66948091,\n",
       "        19.81672211,  42.94237785,  12.07511087,  20.29350664,\n",
       "        26.85231277,  16.77013302,  15.17120144,  43.27575294,\n",
       "        21.48939998,  20.61618224,  23.64782703,  24.3893073 ,\n",
       "        25.43670359,  20.31932987,  21.06266962,  17.69940855,\n",
       "        46.9966404 ,  59.79181625,  44.87865634,  20.92060345,\n",
       "         9.99871251,  20.2110168 ,  45.76717224,  46.90865438,\n",
       "        12.36111878,  42.00354282,  18.0163798 ,  47.75116357,\n",
       "        40.85948566,  14.05778377,  25.71186048,  37.53444566,\n",
       "        23.51969775,  48.92745157,  24.47447585,  24.14115887,\n",
       "        20.57955309,  29.75706224,  29.03465976,  33.60253627,\n",
       "        25.43042413,  24.69847127,  21.28585526,  16.02483565,\n",
       "        29.51444796,  18.95857389,  41.58674184,  22.82748583,\n",
       "        25.751433  ,  39.16162555,  28.60065642,  23.21947769,\n",
       "        18.98836334,  60.98932916,  19.2321547 ,  23.25945297,\n",
       "        22.45645767,  38.59380548,  36.24169511,  22.1383606 ,\n",
       "        30.69195186,  42.19287059,  26.52616939,  13.91884728,\n",
       "        19.81174402,  11.83944159,  13.01641198,  42.3566137 ,\n",
       "        46.7430536 ,  17.01961144,  64.04354359, 103.26043557,\n",
       "        17.86160002,  18.54446662,  48.21645489,  24.79897775,\n",
       "        42.1090019 ,  27.92769897,  32.8432423 ,  32.24497192,\n",
       "        57.51545481,  18.13531825,  23.02844169,  43.05367688,\n",
       "        24.93798838,  80.01178796,  42.13599502,  39.07673573,\n",
       "        24.80007702,  49.23169794,  45.4008415 ,  37.29705857,\n",
       "        18.46622736,  37.82128193,  19.82143316])"
      ]
     },
     "execution_count": 32,
     "metadata": {},
     "output_type": "execute_result"
    }
   ],
   "source": [
    "reg.predict(x_test)"
   ]
  },
  {
   "cell_type": "code",
   "execution_count": 33,
   "metadata": {},
   "outputs": [
    {
     "data": {
      "text/html": [
       "<div>\n",
       "<style scoped>\n",
       "    .dataframe tbody tr th:only-of-type {\n",
       "        vertical-align: middle;\n",
       "    }\n",
       "\n",
       "    .dataframe tbody tr th {\n",
       "        vertical-align: top;\n",
       "    }\n",
       "\n",
       "    .dataframe thead th {\n",
       "        text-align: right;\n",
       "    }\n",
       "</style>\n",
       "<table border=\"1\" class=\"dataframe\">\n",
       "  <thead>\n",
       "    <tr style=\"text-align: right;\">\n",
       "      <th></th>\n",
       "      <th>week_id</th>\n",
       "      <th>date</th>\n",
       "      <th>sessions</th>\n",
       "      <th>online_leads_actuals</th>\n",
       "      <th>test_drive_request</th>\n",
       "      <th>offer_request</th>\n",
       "      <th>total_configs_finished</th>\n",
       "      <th>keep_me_updated</th>\n",
       "      <th>dealer_locator</th>\n",
       "    </tr>\n",
       "  </thead>\n",
       "  <tbody>\n",
       "    <tr>\n",
       "      <th>0</th>\n",
       "      <td>80</td>\n",
       "      <td>8/7/2018</td>\n",
       "      <td>24420</td>\n",
       "      <td>61</td>\n",
       "      <td>38</td>\n",
       "      <td>23</td>\n",
       "      <td>2396</td>\n",
       "      <td>0</td>\n",
       "      <td>2464</td>\n",
       "    </tr>\n",
       "    <tr>\n",
       "      <th>1</th>\n",
       "      <td>80</td>\n",
       "      <td>9/7/2018</td>\n",
       "      <td>28615</td>\n",
       "      <td>49</td>\n",
       "      <td>23</td>\n",
       "      <td>26</td>\n",
       "      <td>2713</td>\n",
       "      <td>0</td>\n",
       "      <td>3532</td>\n",
       "    </tr>\n",
       "    <tr>\n",
       "      <th>2</th>\n",
       "      <td>80</td>\n",
       "      <td>10/7/2018</td>\n",
       "      <td>33702</td>\n",
       "      <td>85</td>\n",
       "      <td>52</td>\n",
       "      <td>33</td>\n",
       "      <td>3167</td>\n",
       "      <td>0</td>\n",
       "      <td>3752</td>\n",
       "    </tr>\n",
       "    <tr>\n",
       "      <th>3</th>\n",
       "      <td>80</td>\n",
       "      <td>11/7/2018</td>\n",
       "      <td>28600</td>\n",
       "      <td>89</td>\n",
       "      <td>46</td>\n",
       "      <td>43</td>\n",
       "      <td>2792</td>\n",
       "      <td>0</td>\n",
       "      <td>3112</td>\n",
       "    </tr>\n",
       "    <tr>\n",
       "      <th>4</th>\n",
       "      <td>80</td>\n",
       "      <td>12/7/2018</td>\n",
       "      <td>28625</td>\n",
       "      <td>76</td>\n",
       "      <td>41</td>\n",
       "      <td>35</td>\n",
       "      <td>2888</td>\n",
       "      <td>0</td>\n",
       "      <td>3383</td>\n",
       "    </tr>\n",
       "  </tbody>\n",
       "</table>\n",
       "</div>"
      ],
      "text/plain": [
       "   week_id       date  sessions  online_leads_actuals  test_drive_request  \\\n",
       "0       80   8/7/2018     24420                    61                  38   \n",
       "1       80   9/7/2018     28615                    49                  23   \n",
       "2       80  10/7/2018     33702                    85                  52   \n",
       "3       80  11/7/2018     28600                    89                  46   \n",
       "4       80  12/7/2018     28625                    76                  41   \n",
       "\n",
       "   offer_request  total_configs_finished  keep_me_updated  dealer_locator  \n",
       "0             23                    2396                0            2464  \n",
       "1             26                    2713                0            3532  \n",
       "2             33                    3167                0            3752  \n",
       "3             43                    2792                0            3112  \n",
       "4             35                    2888                0            3383  "
      ]
     },
     "execution_count": 33,
     "metadata": {},
     "output_type": "execute_result"
    }
   ],
   "source": [
    "df2=pd.read_csv(\"C:\\\\Users\\\\Welcome\\\\Desktop\\\\ML\\\\car_test.csv\")\n",
    "df2.head()"
   ]
  },
  {
   "cell_type": "code",
   "execution_count": 34,
   "metadata": {},
   "outputs": [],
   "source": [
    "x_test_set=df2.drop('date',axis='columns')\n"
   ]
  },
  {
   "cell_type": "code",
   "execution_count": 35,
   "metadata": {},
   "outputs": [
    {
     "data": {
      "text/plain": [
       "array([11.19596519, 18.51412237, 26.22372617, 19.8495955 , 21.35695229,\n",
       "       20.37725657, 18.71568987, 19.57302968, 25.88410784, 23.93052894,\n",
       "       24.88706835, 21.87669569, 23.11510864, 22.1546064 , 19.62804607,\n",
       "       24.03781638, 21.07866741, 19.92316331, 18.18811529, 19.99234761,\n",
       "       27.77976327, 33.41028246, 28.71236947, 23.84659955, 24.61974976,\n",
       "       25.78380562, 25.71492803, 23.54513807, 22.66713286, 27.40041466,\n",
       "       21.61071839, 22.72919565, 22.77593995, 25.13557034, 23.37014073,\n",
       "       28.93566781, 25.74761644, 30.67388425, 23.36816447, 24.61801116,\n",
       "       23.86639627, 19.98432619, 25.63869188, 23.75137919, 22.29834658,\n",
       "       18.9000497 , 17.79839825, 22.078488  , 18.6197562 , 22.78855475,\n",
       "       18.75611144, 20.72087606, 20.0875941 , 16.01126231, 14.72870551])"
      ]
     },
     "execution_count": 35,
     "metadata": {},
     "output_type": "execute_result"
    }
   ],
   "source": [
    "reg.predict(x_test_set)"
   ]
  },
  {
   "cell_type": "code",
   "execution_count": null,
   "metadata": {},
   "outputs": [],
   "source": []
  }
 ],
 "metadata": {
  "kernelspec": {
   "display_name": "Python 3",
   "language": "python",
   "name": "python3"
  },
  "language_info": {
   "codemirror_mode": {
    "name": "ipython",
    "version": 3
   },
   "file_extension": ".py",
   "mimetype": "text/x-python",
   "name": "python",
   "nbconvert_exporter": "python",
   "pygments_lexer": "ipython3",
   "version": "3.8.3"
  }
 },
 "nbformat": 4,
 "nbformat_minor": 4
}
